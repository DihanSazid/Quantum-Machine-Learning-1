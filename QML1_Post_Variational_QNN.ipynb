{
  "nbformat": 4,
  "nbformat_minor": 0,
  "metadata": {
    "colab": {
      "provenance": []
    },
    "kernelspec": {
      "name": "python3",
      "display_name": "Python 3"
    },
    "language_info": {
      "name": "python"
    }
  },
  "cells": [
    {
      "cell_type": "markdown",
      "source": [
        "This article discusses alternative training strategies for variational quantum algorithms, specifically focusing on \"post-variational strategies.\" These strategies address the challenges associated with the barren plateau problem in variational algorithms, which make gradient-based optimization difficult. In contrast to traditional variational methods that tune quantum circuit parameters, the proposed post-variational strategies optimize combinations of fixed quantum circuits using classical models, such as linear models or multilayer perceptrons. This approach shifts the tuning from the quantum to the classical realm, improving the trainability of the model at the expense of circuit expressibility.\n",
        "\n",
        "The article demonstrates the application of post-variational quantum neural networks (QVNNs) for image classification, specifically identifying handwritten digits (twos and sixes). The results show improved training performance compared to variational algorithms. The dataset used consists of 8×8 pixel greyscale images, with 10% reserved for testing.\n",
        "\n",
        "This approach offers a promising direction for overcoming the limitations of traditional variational methods by employing classical optimization techniques to enhance model trainability.\n"
      ],
      "metadata": {
        "id": "spXh-8JJxOn1"
      }
    },
    {
      "cell_type": "code",
      "execution_count": 16,
      "metadata": {
        "colab": {
          "base_uri": "https://localhost:8080/"
        },
        "id": "u7qogCKYTk-r",
        "outputId": "92584f38-24bc-40da-9de4-b91631d859c4"
      },
      "outputs": [
        {
          "output_type": "stream",
          "name": "stdout",
          "text": [
            "Requirement already satisfied: pennylane in /usr/local/lib/python3.10/dist-packages (0.39.0)\n",
            "Requirement already satisfied: numpy<2.1 in /usr/local/lib/python3.10/dist-packages (from pennylane) (1.26.4)\n",
            "Requirement already satisfied: scipy in /usr/local/lib/python3.10/dist-packages (from pennylane) (1.13.1)\n",
            "Requirement already satisfied: networkx in /usr/local/lib/python3.10/dist-packages (from pennylane) (3.4.2)\n",
            "Requirement already satisfied: rustworkx>=0.14.0 in /usr/local/lib/python3.10/dist-packages (from pennylane) (0.15.1)\n",
            "Requirement already satisfied: autograd in /usr/local/lib/python3.10/dist-packages (from pennylane) (1.7.0)\n",
            "Requirement already satisfied: toml in /usr/local/lib/python3.10/dist-packages (from pennylane) (0.10.2)\n",
            "Requirement already satisfied: appdirs in /usr/local/lib/python3.10/dist-packages (from pennylane) (1.4.4)\n",
            "Requirement already satisfied: autoray>=0.6.11 in /usr/local/lib/python3.10/dist-packages (from pennylane) (0.7.0)\n",
            "Requirement already satisfied: cachetools in /usr/local/lib/python3.10/dist-packages (from pennylane) (5.5.0)\n",
            "Requirement already satisfied: pennylane-lightning>=0.39 in /usr/local/lib/python3.10/dist-packages (from pennylane) (0.39.0)\n",
            "Requirement already satisfied: requests in /usr/local/lib/python3.10/dist-packages (from pennylane) (2.32.3)\n",
            "Requirement already satisfied: typing-extensions in /usr/local/lib/python3.10/dist-packages (from pennylane) (4.12.2)\n",
            "Requirement already satisfied: packaging in /usr/local/lib/python3.10/dist-packages (from pennylane) (24.2)\n",
            "Requirement already satisfied: charset-normalizer<4,>=2 in /usr/local/lib/python3.10/dist-packages (from requests->pennylane) (3.4.0)\n",
            "Requirement already satisfied: idna<4,>=2.5 in /usr/local/lib/python3.10/dist-packages (from requests->pennylane) (3.10)\n",
            "Requirement already satisfied: urllib3<3,>=1.21.1 in /usr/local/lib/python3.10/dist-packages (from requests->pennylane) (2.2.3)\n",
            "Requirement already satisfied: certifi>=2017.4.17 in /usr/local/lib/python3.10/dist-packages (from requests->pennylane) (2024.8.30)\n"
          ]
        }
      ],
      "source": [
        "pip install pennylane"
      ]
    },
    {
      "cell_type": "markdown",
      "source": [],
      "metadata": {
        "id": "KmmXPI1lysaL"
      }
    },
    {
      "cell_type": "code",
      "source": [
        "import pennylane as qml\n",
        "from pennylane import numpy as np\n",
        "import jax\n",
        "from jax import numpy as jnp\n",
        "import optax\n",
        "from itertools import combinations\n",
        "from sklearn.datasets import load_digits\n",
        "from sklearn.model_selection import train_test_split\n",
        "from sklearn.neural_network import MLPClassifier\n",
        "from sklearn.metrics import log_loss\n",
        "import matplotlib.pyplot as plt\n",
        "import matplotlib.colors\n",
        "import warnings\n",
        "warnings.filterwarnings(\"ignore\")\n",
        "np.random.seed(42)\n",
        "\n",
        "# Load the digits dataset with features (X_digits) and labels (y_digits)\n",
        "X_digits, y_digits = load_digits(return_X_y=True)\n",
        "\n",
        "# Create a boolean mask to filter out only the samples where the label is 2 or 6\n",
        "filter_mask = np.isin(y_digits, [2, 6])\n",
        "\n",
        "# Apply the filter mask to the features and labels to keep only the selected digits\n",
        "X_digits = X_digits[filter_mask]\n",
        "y_digits = y_digits[filter_mask]\n",
        "\n",
        "# Split the filtered dataset into training and testing sets with 10% of data reserved for testing\n",
        "X_train, X_test, y_train, y_test = train_test_split(\n",
        "    X_digits, y_digits, test_size=0.1, random_state=42\n",
        ")\n",
        "\n",
        "# Normalize the pixel values in the training and testing data\n",
        "# Convert each image from a 1D array to an 8x8 2D array, normalize pixel values, and scale them\n",
        "X_train = np.array([thing.reshape([8, 8]) / 16 * 2 * np.pi for thing in X_train])\n",
        "X_test = np.array([thing.reshape([8, 8]) / 16 * 2 * np.pi for thing in X_test])\n",
        "\n",
        "# Adjust the labels to be centered around 0 and scaled to be in the range -1 to 1\n",
        "# The original labels (2 and 6) are mapped to -1 and 1 respectively\n",
        "y_train = (y_train - 4) / 2\n",
        "y_test = (y_test - 4) / 2"
      ],
      "metadata": {
        "id": "ab1yMl-TT0In"
      },
      "execution_count": 17,
      "outputs": []
    },
    {
      "cell_type": "code",
      "source": [
        "fig, axes = plt.subplots(nrows=2, ncols=3, layout=\"constrained\")\n",
        "for i in range(2):\n",
        "    for j in range(3):\n",
        "      axes[i][j].matshow(X_train[2*(2*j+i)])\n",
        "      axes[i][j].axis('off')\n",
        "fig.subplots_adjust(hspace=0.0)\n",
        "fig.tight_layout()\n",
        "plt.show()"
      ],
      "metadata": {
        "colab": {
          "base_uri": "https://localhost:8080/",
          "height": 451
        },
        "id": "ALk6Bv09pCHa",
        "outputId": "b9144e2d-d4b1-45de-f1f3-91bc97dad47f"
      },
      "execution_count": 18,
      "outputs": [
        {
          "output_type": "display_data",
          "data": {
            "text/plain": [
              "<Figure size 640x480 with 6 Axes>"
            ],
            "image/png": "[encoded data removed]"
          },
          "metadata": {}
        }
      ]
    },
    {
      "cell_type": "code",
      "source": [
        "def feature_map(features):\n",
        "    # Apply Hadamard gates to all qubits to create an equal superposition state\n",
        "    for i in range(len(features[0])):\n",
        "        qml.Hadamard(i)\n",
        "\n",
        "    # Apply angle embeddings based on the feature values\n",
        "    for i in range(len(features)):\n",
        "        # For odd-indexed features, use Z-rotation in the angle embedding\n",
        "        if i % 2:\n",
        "            qml.AngleEmbedding(features=features[i], wires=range(8), rotation=\"Z\")\n",
        "        # For even-indexed features, use X-rotation in the angle embedding\n",
        "        else:\n",
        "            qml.AngleEmbedding(features=features[i], wires=range(8), rotation=\"X\")\n",
        "\n",
        "# Define the ansatz (quantum circuit ansatz) for parameterized quantum operations\n",
        "def ansatz(params):\n",
        "    # Apply RY rotations with the first set of parameters\n",
        "    for i in range(8):\n",
        "        qml.RY(params[i], wires=i)\n",
        "\n",
        "    # Apply CNOT gates with adjacent qubits (cyclically connected) to create entanglement\n",
        "    for i in range(8):\n",
        "        qml.CNOT(wires=[(i - 1) % 8, (i) % 8])\n",
        "\n",
        "    # Apply RY rotations with the second set of parameters\n",
        "    for i in range(8):\n",
        "        qml.RY(params[i + 8], wires=i)\n",
        "\n",
        "    # Apply CNOT gates with qubits in reverse order (cyclically connected)\n",
        "    # to create additional entanglement\n",
        "    for i in range(8):\n",
        "        qml.CNOT(wires=[(8 - 2 - i) % 8, (8 - i - 1) % 8])"
      ],
      "metadata": {
        "id": "qGBH-nRZpN1I"
      },
      "execution_count": 19,
      "outputs": []
    },
    {
      "cell_type": "markdown",
      "source": [],
      "metadata": {
        "id": "JPLjX5cKxPwJ"
      }
    },
    {
      "cell_type": "code",
      "source": [
        "dev = qml.device(\"default.qubit\", wires=8)\n",
        "\n",
        "\n",
        "@qml.qnode(dev)\n",
        "def circuit(params, features):\n",
        "    feature_map(features)\n",
        "    ansatz(params)\n",
        "    return qml.expval(qml.PauliZ(0))\n",
        "\n",
        "\n",
        "def variational_classifier(weights, bias, x):\n",
        "    return circuit(weights, x) + bias\n",
        "\n",
        "\n",
        "def square_loss(labels, predictions):\n",
        "    return np.mean((labels - qml.math.stack(predictions)) ** 2)\n",
        "\n",
        "\n",
        "def accuracy(labels, predictions):\n",
        "    acc = sum([np.sign(l) == np.sign(p) for l, p in zip(labels, predictions)])\n",
        "    acc = acc / len(labels)\n",
        "    return acc\n",
        "\n",
        "\n",
        "def cost(params, X, Y):\n",
        "    predictions = [variational_classifier(params[\"weights\"], params[\"bias\"], x) for x in X]\n",
        "    return square_loss(Y, predictions)\n",
        "\n",
        "\n",
        "def acc(params, X, Y):\n",
        "    predictions = [variational_classifier(params[\"weights\"], params[\"bias\"], x) for x in X]\n",
        "    return accuracy(Y, predictions)\n",
        "\n",
        "\n",
        "np.random.seed(0)\n",
        "weights = 0.01 * np.random.randn(16)\n",
        "bias = jnp.array(0.0)\n",
        "params = {\"weights\": weights, \"bias\": bias}\n",
        "opt = optax.adam(0.05)\n",
        "batch_size = 7\n",
        "num_batch = X_train.shape[0] // batch_size\n",
        "opt_state = opt.init(params)\n",
        "X_batched = X_train.reshape([-1, batch_size, 8, 8])\n",
        "y_batched = y_train.reshape([-1, batch_size])\n",
        "\n",
        "\n",
        "@jax.jit\n",
        "def update_step_jit(i, args):\n",
        "    params, opt_state, data, targets, batch_no = args\n",
        "    _data = data[batch_no % num_batch]\n",
        "    _targets = targets[batch_no % num_batch]\n",
        "    _, grads = jax.value_and_grad(cost)(params, _data, _targets)\n",
        "    updates, opt_state = opt.update(grads, opt_state)\n",
        "    params = optax.apply_updates(params, updates)\n",
        "    return (params, opt_state, data, targets, batch_no + 1)\n",
        "\n",
        "\n",
        "@jax.jit\n",
        "def optimization_jit(params, data, targets):\n",
        "    opt_state = opt.init(params)\n",
        "    args = (params, opt_state, data, targets, 0)\n",
        "    (params, opt_state, _, _, _) = jax.lax.fori_loop(0, 200, update_step_jit, args)\n",
        "    return params\n",
        "\n",
        "\n",
        "params = optimization_jit(params, X_batched, y_batched)\n",
        "var_train_acc = acc(params, X_train, y_train)\n",
        "var_test_acc = acc(params, X_test, y_test)\n",
        "\n",
        "print(\"Training accuracy: \", var_train_acc)\n",
        "print(\"Testing accuracy: \", var_test_acc)"
      ],
      "metadata": {
        "colab": {
          "base_uri": "https://localhost:8080/"
        },
        "id": "UOAn1u60Iz-N",
        "outputId": "a748be28-94db-426e-f24b-aeec1e63acb8"
      },
      "execution_count": 20,
      "outputs": [
        {
          "output_type": "stream",
          "name": "stdout",
          "text": [
            "Training accuracy:  0.7484472049689441\n",
            "Testing accuracy:  0.6944444444444444\n"
          ]
        }
      ]
    },
    {
      "cell_type": "markdown",
      "source": [],
      "metadata": {
        "id": "Nw1OapKnxR15"
      }
    },
    {
      "cell_type": "code",
      "source": [
        "def local_pauli_group(qubits: int, locality: int):\n",
        "    assert locality <= qubits, f\"Locality must not exceed the number of qubits.\"\n",
        "    return list(generate_paulis(0, 0, \"\", qubits, locality))\n",
        "\n",
        "# This is a recursive generator function that constructs Pauli strings.\n",
        "def generate_paulis(identities: int, paulis: int, output: str, qubits: int, locality: int):\n",
        "    # Base case: if the output string's length matches the number of qubits, yield it.\n",
        "    if len(output) == qubits:\n",
        "        yield output\n",
        "    else:\n",
        "        # Recursive case: add an \"I\" (identity) to the output string.\n",
        "        yield from generate_paulis(identities + 1, paulis, output + \"I\", qubits, locality)\n",
        "\n",
        "        # If the number of Pauli operators used is less than the locality, add \"X\", \"Y\", or \"Z\"\n",
        "        # systematically builds all possible Pauli strings that conform to the specified locality.\n",
        "        if paulis < locality:\n",
        "            yield from generate_paulis(identities, paulis + 1, output + \"X\", qubits, locality)\n",
        "            yield from generate_paulis(identities, paulis + 1, output + \"Y\", qubits, locality)\n",
        "            yield from generate_paulis(identities, paulis + 1, output + \"Z\", qubits, locality)"
      ],
      "metadata": {
        "id": "wLGFfkBHJZMj"
      },
      "execution_count": 21,
      "outputs": []
    },
    {
      "cell_type": "code",
      "source": [
        "# Initialize lists to store training and testing accuracies for different localities.\n",
        "train_accuracies_O = []\n",
        "test_accuracies_O = []\n",
        "\n",
        "for locality in range(1, 4):\n",
        "    print(str(locality) + \"-local: \")\n",
        "\n",
        "    # Define a quantum device with 8 qubits using the default simulator.\n",
        "    dev = qml.device(\"default.qubit\", wires=8)\n",
        "\n",
        "    # Define a quantum node (qnode) with the quantum circuit that will be executed on the device.\n",
        "    @qml.qnode(dev)\n",
        "    def circuit(features):\n",
        "        # Generate all possible Pauli strings for the given locality.\n",
        "        measurements = local_pauli_group(8, locality)\n",
        "\n",
        "        # Apply the feature map to encode classical data into quantum states.\n",
        "        feature_map(features)\n",
        "\n",
        "        # Measure the expectation values of the generated Pauli operators.\n",
        "        return [qml.expval(qml.pauli.string_to_pauli_word(measurement)) for measurement in measurements]\n",
        "\n",
        "    # Vectorize the quantum circuit function to apply it to multiple data points in parallel.\n",
        "    vcircuit = jax.vmap(circuit)\n",
        "\n",
        "    # Transform the training and testing datasets by applying the quantum circuit.\n",
        "    new_X_train = np.asarray(vcircuit(jnp.array(X_train))).T\n",
        "    new_X_test = np.asarray(vcircuit(jnp.array(X_test))).T\n",
        "\n",
        "    # Train a Multilayer Perceptron (MLP) classifier on the transformed training data.\n",
        "    clf = MLPClassifier(early_stopping=True).fit(new_X_train, y_train)\n",
        "\n",
        "    # Print the log loss for the training data.\n",
        "    print(\"Training loss: \", log_loss(y_train, clf.predict_proba(new_X_train)))\n",
        "\n",
        "    # Print the log loss for the testing data.\n",
        "    print(\"Testing loss: \", log_loss(y_test, clf.predict_proba(new_X_test)))\n",
        "\n",
        "    # Calculate and store the training accuracy.\n",
        "    acc = clf.score(new_X_train, y_train)\n",
        "    train_accuracies_O.append(acc)\n",
        "    print(\"Training accuracy: \", acc)\n",
        "\n",
        "    # Calculate and store the testing accuracy.\n",
        "    acc = clf.score(new_X_test, y_test)\n",
        "    test_accuracies_O.append(acc)\n",
        "    print(\"Testing accuracy: \", acc)\n",
        "    print()\n",
        "\n",
        "locality = (\"1-local\", \"2-local\", \"3-local\")\n",
        "train_accuracies_O = [round(value, 2) for value in train_accuracies_O]\n",
        "test_accuracies_O = [round(value, 2) for value in test_accuracies_O]\n",
        "x = np.arange(3)\n",
        "width = 0.25\n",
        "\n",
        "# Create a bar plot to visualize the training and testing accuracies.\n",
        "fig, ax = plt.subplots(layout=\"constrained\")\n",
        "# Training accuracy bars:\n",
        "rects = ax.bar(x, train_accuracies_O, width, label=\"Training\", color=\"#FF87EB\")\n",
        "# Testing accuracy bars:\n",
        "rects = ax.bar(x + width, test_accuracies_O, width, label=\"Testing\", color=\"#70CEFF\")\n",
        "ax.bar_label(rects, padding=3)\n",
        "ax.set_xlabel(\"Locality\")\n",
        "ax.set_ylabel(\"Accuracy\")\n",
        "ax.set_title(\"Accuracy of different localities\")\n",
        "ax.set_xticks(x + width / 2, locality)\n",
        "ax.legend(loc=\"upper left\")\n",
        "plt.show()"
      ],
      "metadata": {
        "colab": {
          "base_uri": "https://localhost:8080/",
          "height": 820
        },
        "id": "TC24Nqa_S73i",
        "outputId": "fb4da528-1973-48a2-ca2b-8b57551b5559"
      },
      "execution_count": 28,
      "outputs": [
        {
          "output_type": "stream",
          "name": "stdout",
          "text": [
            "1-local: \n",
            "Training loss:  0.5567337925309377\n",
            "Testing loss:  0.5602685345579601\n",
            "Training accuracy:  0.782608695652174\n",
            "Testing accuracy:  0.7777777777777778\n",
            "\n",
            "2-local: \n",
            "Training loss:  0.48440244587712483\n",
            "Testing loss:  0.555829752450422\n",
            "Training accuracy:  0.8416149068322981\n",
            "Testing accuracy:  0.7777777777777778\n",
            "\n",
            "3-local: \n",
            "Training loss:  0.32810235311728486\n",
            "Testing loss:  0.5938181338672985\n",
            "Training accuracy:  0.9347826086956522\n",
            "Testing accuracy:  0.75\n",
            "\n"
          ]
        },
        {
          "output_type": "display_data",
          "data": {
            "text/plain": [
              "<Figure size 640x480 with 1 Axes>"
            ],
            "image/png": "[encoded data removed]"
          },
          "metadata": {}
        }
      ]
    },
    {
      "cell_type": "code",
      "source": [
        "def deriv_params(thetas: int, order: int):\n",
        "    # This function generates parameter shift values for calculating derivatives\n",
        "    # of a quantum circuit.\n",
        "    # 'thetas' is the number of parameters in the circuit.\n",
        "    # 'order' determines the order of the derivative to calculate (1st order, 2nd order, etc.).\n",
        "\n",
        "    def generate_shifts(thetas: int, order: int):\n",
        "        # Generate all possible combinations of parameters to shift for the given order.\n",
        "        shift_pos = list(combinations(np.arange(thetas), order))\n",
        "\n",
        "        # Initialize a 3D array to hold the shift values.\n",
        "        # Shape: (number of combinations, 2^order, thetas)\n",
        "        params = np.zeros((len(shift_pos), 2 ** order, thetas))\n",
        "\n",
        "        # Iterate over each combination of parameter shifts.\n",
        "        for i in range(len(shift_pos)):\n",
        "            # Iterate over each possible binary shift pattern for the given order.\n",
        "            for j in range(2 ** order):\n",
        "                # Convert the index j to a binary string of length 'order'.\n",
        "                for k, l in enumerate(f\"{j:0{order}b}\"):\n",
        "                    # For each bit in the binary string:\n",
        "                    if int(l) > 0:\n",
        "                        # If the bit is 1, increment the corresponding parameter.\n",
        "                        params[i][j][shift_pos[i][k]] += 1\n",
        "                    else:\n",
        "                        # If the bit is 0, decrement the corresponding parameter.\n",
        "                        params[i][j][shift_pos[i][k]] -= 1\n",
        "\n",
        "        # Reshape the parameters array to collapse the first two dimensions.\n",
        "        params = np.reshape(params, (-1, thetas))\n",
        "        return params\n",
        "\n",
        "    # Start with a list containing a zero-shift array for all parameters.\n",
        "    param_list = [np.zeros((1, thetas))]\n",
        "\n",
        "    # Append the generated shift values for each order from 1 to the given order.\n",
        "    for i in range(1, order + 1):\n",
        "        param_list.append(generate_shifts(thetas, i))\n",
        "\n",
        "    # Concatenate all the shift arrays along the first axis to create the final parameter array.\n",
        "    params = np.concatenate(param_list, axis=0)\n",
        "\n",
        "    # Scale the shift values by π/2.\n",
        "    params *= np.pi / 2\n",
        "\n",
        "    return params"
      ],
      "metadata": {
        "id": "_Not5mmRJe_9"
      },
      "execution_count": 29,
      "outputs": []
    },
    {
      "cell_type": "code",
      "source": [
        "n_wires = 8\n",
        "dev = qml.device(\"default.qubit\", wires=n_wires)\n",
        "\n",
        "@jax.jit\n",
        "@qml.qnode(dev, interface=\"jax\")\n",
        "def circuit(features, params, n_wires=8):\n",
        "    feature_map(features)\n",
        "    ansatz(params)\n",
        "    return qml.expval(qml.PauliZ(0))"
      ],
      "metadata": {
        "id": "fdIJkWezJgfA"
      },
      "execution_count": 30,
      "outputs": []
    },
    {
      "cell_type": "code",
      "source": [
        "# Initialize lists to store training and testing accuracies for different derivative orders.\n",
        "train_accuracies_AE = []\n",
        "test_accuracies_AE = []\n",
        "\n",
        "# Loop through different derivative orders (1st order, 2nd order, 3rd order).\n",
        "for order in range(1, 4):\n",
        "    print(\"Order number: \" + str(order))\n",
        "\n",
        "    # Generate the parameter shifts required for the given derivative order.\n",
        "    to_measure = deriv_params(16, order)\n",
        "\n",
        "    # Transform the training dataset by applying the quantum circuit with the\n",
        "    # generated parameter shifts.\n",
        "    new_X_train = []\n",
        "    for thing in X_train:\n",
        "        result = circuit(thing, to_measure.T)\n",
        "        new_X_train.append(result)\n",
        "\n",
        "    # Transform the testing dataset similarly.\n",
        "    new_X_test = []\n",
        "    for thing in X_test:\n",
        "        result = circuit(thing, to_measure.T)\n",
        "        new_X_test.append(result)\n",
        "\n",
        "    # Train a Multilayer Perceptron (MLP) classifier on the transformed training data.\n",
        "    clf = MLPClassifier(early_stopping=True).fit(new_X_train, y_train)\n",
        "\n",
        "    # Print the log loss for the training data.\n",
        "    print(\"Training loss: \", log_loss(y_train, clf.predict_proba(new_X_train)))\n",
        "\n",
        "    # Print the log loss for the testing data.\n",
        "    print(\"Testing loss: \", log_loss(y_test, clf.predict_proba(new_X_test)))\n",
        "\n",
        "    # Calculate and store the training accuracy.\n",
        "    acc = clf.score(new_X_train, y_train)\n",
        "    train_accuracies_AE.append(acc)\n",
        "    print(\"Training accuracy: \", acc)\n",
        "\n",
        "    # Calculate and store the testing accuracy.\n",
        "    acc = clf.score(new_X_test, y_test)\n",
        "    test_accuracies_AE.append(acc)\n",
        "    print(\"Testing accuracy: \", acc)\n",
        "    print()\n",
        "\n",
        "locality = (\"1-order\", \"2-order\", \"3-order\")\n",
        "train_accuracies_AE = [round(value, 2) for value in train_accuracies_AE]\n",
        "test_accuracies_AE = [round(value, 2) for value in test_accuracies_AE]\n",
        "x = np.arange(3)\n",
        "width = 0.25\n",
        "fig, ax = plt.subplots(layout=\"constrained\")\n",
        "rects = ax.bar(x, train_accuracies_AE, width, label=\"Training\", color=\"#FF87EB\")\n",
        "ax.bar_label(rects, padding=3)\n",
        "rects = ax.bar(x + width, test_accuracies_AE, width, label=\"Testing\", color=\"#70CEFF\")\n",
        "ax.bar_label(rects, padding=3)\n",
        "ax.set_xlabel(\"Order\")\n",
        "ax.set_ylabel(\"Accuracy\")\n",
        "ax.set_title(\"Accuracy of different derivative orders\")\n",
        "ax.set_xticks(x + width / 2, locality)\n",
        "ax.legend(loc=\"upper left\")\n",
        "plt.show()"
      ],
      "metadata": {
        "colab": {
          "base_uri": "https://localhost:8080/",
          "height": 820
        },
        "id": "slzjypsQJ2hD",
        "outputId": "e23ebc07-f21b-445c-e08a-9dd21e869888"
      },
      "execution_count": 31,
      "outputs": [
        {
          "output_type": "stream",
          "name": "stdout",
          "text": [
            "Order number: 1\n",
            "Training loss:  0.7424751782920129\n",
            "Testing loss:  0.7582862719522725\n",
            "Training accuracy:  0.4968944099378882\n",
            "Testing accuracy:  0.4722222222222222\n",
            "\n",
            "Order number: 2\n",
            "Training loss:  0.6158928658662948\n",
            "Testing loss:  0.6033058232354203\n",
            "Training accuracy:  0.7329192546583851\n",
            "Testing accuracy:  0.6666666666666666\n",
            "\n",
            "Order number: 3\n",
            "Training loss:  0.5813864112092096\n",
            "Testing loss:  0.5992989465404857\n",
            "Training accuracy:  0.7049689440993789\n",
            "Testing accuracy:  0.6944444444444444\n",
            "\n"
          ]
        },
        {
          "output_type": "display_data",
          "data": {
            "text/plain": [
              "<Figure size 640x480 with 1 Axes>"
            ],
            "image/png": "[encoded data removed]"
          },
          "metadata": {}
        }
      ]
    },
    {
      "cell_type": "code",
      "source": [
        "# Initialize matrices to store training and testing accuracies for different\n",
        "# combinations of locality and order.\n",
        "train_accuracies = np.zeros([4, 4])\n",
        "test_accuracies = np.zeros([4, 4])\n",
        "\n",
        "# Loop through different derivative orders (1st to 3rd) and localities (1-local to 3-local).\n",
        "for order in range(1, 4):\n",
        "    for locality in range(1, 4):\n",
        "        # Skip invalid combinations where locality + order exceeds 3 or equals 0.\n",
        "        if locality + order > 3 or locality + order == 0:\n",
        "            continue\n",
        "        print(\"Locality: \" + str(locality) + \" Order: \" + str(order))\n",
        "\n",
        "        # Define a quantum device with 8 qubits using the default simulator.\n",
        "        dev = qml.device(\"default.qubit\", wires=8)\n",
        "\n",
        "        # Generate the parameter shifts required for the given derivative order and transpose them.\n",
        "        params = deriv_params(16, order).T\n",
        "\n",
        "        # Define a quantum node (qnode) with the quantum circuit that will be executed on the device.\n",
        "        @qml.qnode(dev)\n",
        "        def circuit(features, params):\n",
        "            # Generate the Pauli group for the given locality.\n",
        "            measurements = local_pauli_group(8, locality)\n",
        "            feature_map(features)\n",
        "            ansatz(params)\n",
        "            # Measure the expectation values of the generated Pauli operators.\n",
        "            return [qml.expval(qml.pauli.string_to_pauli_word(measurement)) for measurement in measurements]\n",
        "\n",
        "        # Vectorize the quantum circuit function to apply it to multiple data points in parallel.\n",
        "        vcircuit = jax.vmap(circuit)\n",
        "\n",
        "        # Transform the training dataset by applying the quantum circuit with the\n",
        "        # generated parameter shifts.\n",
        "        new_X_train = np.asarray(\n",
        "            vcircuit(jnp.array(X_train), jnp.array([params for i in range(len(X_train))]))\n",
        "        )\n",
        "        # Reorder the axes and reshape the transformed data for input into the classifier.\n",
        "        new_X_train = np.moveaxis(new_X_train, 0, -1).reshape(\n",
        "            -1, len(local_pauli_group(8, locality)) * len(deriv_params(16, order))\n",
        "        )\n",
        "\n",
        "        # Transform the testing dataset similarly.\n",
        "        new_X_test = np.asarray(\n",
        "            vcircuit(jnp.array(X_test), jnp.array([params for i in range(len(X_test))]))\n",
        "        )\n",
        "        # Reorder the axes and reshape the transformed data for input into the classifier.\n",
        "        new_X_test = np.moveaxis(new_X_test, 0, -1).reshape(\n",
        "            -1, len(local_pauli_group(8, locality)) * len(deriv_params(16, order))\n",
        "        )\n",
        "\n",
        "        # Train a Multilayer Perceptron (MLP) classifier on the transformed training data.\n",
        "        clf = MLPClassifier(early_stopping=True).fit(new_X_train, y_train)\n",
        "\n",
        "        # Calculate and store the training and testing accuracies.\n",
        "        train_accuracies[order][locality] = clf.score(new_X_train, y_train)\n",
        "        test_accuracies[order][locality] = clf.score(new_X_test, y_test)\n",
        "\n",
        "        print(\"Training loss: \", log_loss(y_train, clf.predict_proba(new_X_train)))\n",
        "        print(\"Testing loss: \", log_loss(y_test, clf.predict_proba(new_X_test)))\n",
        "        acc = clf.score(new_X_train, y_train)\n",
        "        train_accuracies[locality][order] = acc\n",
        "        print(\"Training accuracy: \", acc)\n",
        "        acc = clf.score(new_X_test, y_test)\n",
        "        test_accuracies[locality][order] = acc\n",
        "        print(\"Testing accuracy: \", acc)\n",
        "        print()"
      ],
      "metadata": {
        "colab": {
          "base_uri": "https://localhost:8080/"
        },
        "id": "X9U1GDYQNCok",
        "outputId": "faca218f-a7a9-4690-cb71-be3fd74e56e5"
      },
      "execution_count": 32,
      "outputs": [
        {
          "output_type": "stream",
          "name": "stdout",
          "text": [
            "Locality: 1 Order: 1\n",
            "Training loss:  0.28579913496353254\n",
            "Testing loss:  0.5101661086248751\n",
            "Training accuracy:  0.906832298136646\n",
            "Testing accuracy:  0.8055555555555556\n",
            "\n",
            "Locality: 2 Order: 1\n",
            "Training loss:  0.13502707804878447\n",
            "Testing loss:  0.6608379240942234\n",
            "Training accuracy:  0.9720496894409938\n",
            "Testing accuracy:  0.8055555555555556\n",
            "\n",
            "Locality: 1 Order: 2\n",
            "Training loss:  0.3649124614163017\n",
            "Testing loss:  0.5555798027517465\n",
            "Training accuracy:  0.84472049689441\n",
            "Testing accuracy:  0.7222222222222222\n",
            "\n"
          ]
        }
      ]
    },
    {
      "cell_type": "code",
      "source": [
        "for locality in range(1, 4):\n",
        "    train_accuracies[locality][0] = train_accuracies_O[locality - 1]\n",
        "    test_accuracies[locality][0] = test_accuracies_O[locality - 1]\n",
        "for order in range(1, 4):\n",
        "    train_accuracies[0][order] = train_accuracies_AE[order - 1]\n",
        "    test_accuracies[0][order] = test_accuracies_AE[order - 1]\n",
        "\n",
        "train_accuracies[3][3] = var_train_acc\n",
        "test_accuracies[3][3] = var_test_acc\n",
        "\n",
        "cvals = [0, 0.5, 0.85, 0.95, 1]\n",
        "colors = [\"black\", \"#C756B2\", \"#FF87EB\", \"#ACE3FF\", \"#D5F0FD\"]\n",
        "norm = plt.Normalize(min(cvals), max(cvals))\n",
        "tuples = list(zip(map(norm, cvals), colors))\n",
        "cmap = matplotlib.colors.LinearSegmentedColormap.from_list(\"\", tuples)\n",
        "\n",
        "\n",
        "locality = [\"top qubit\\n Pauli-Z\", \"1-local\", \"2-local\", \"3-local\"]\n",
        "order = [\"0th Order\", \"1st Order\", \"2nd Order\", \"3rd Order\"]\n",
        "\n",
        "fig, axes = plt.subplots(nrows=1, ncols=2, layout=\"constrained\")\n",
        "im = axes[0].imshow(train_accuracies, cmap=cmap, origin=\"lower\")\n",
        "\n",
        "axes[0].set_yticks(np.arange(len(locality)), labels=locality)\n",
        "axes[0].set_xticks(np.arange(len(order)), labels=order)\n",
        "plt.setp(axes[0].get_xticklabels(), rotation=45, ha=\"right\", rotation_mode=\"anchor\")\n",
        "for i in range(len(locality)):\n",
        "    for j in range(len(order)):\n",
        "        text = axes[0].text(\n",
        "            j, i, np.round(train_accuracies[i, j], 2), ha=\"center\", va=\"center\", color=\"black\"\n",
        "        )\n",
        "axes[0].text(3, 3, '\\n\\n(VQA)', ha=\"center\", va=\"center\", color=\"black\")\n",
        "\n",
        "axes[0].set_title(\"Training Accuracies\")\n",
        "\n",
        "locality = [\"top qubit\\n Pauli-Z\", \"1-local\", \"2-local\", \"3-local\"]\n",
        "order = [\"0th Order\", \"1st Order\", \"2nd Order\", \"3rd Order\"]\n",
        "\n",
        "im = axes[1].imshow(test_accuracies, cmap=cmap, origin=\"lower\")\n",
        "\n",
        "axes[1].set_yticks(np.arange(len(locality)), labels=locality)\n",
        "axes[1].set_xticks(np.arange(len(order)), labels=order)\n",
        "plt.setp(axes[1].get_xticklabels(), rotation=45, ha=\"right\", rotation_mode=\"anchor\")\n",
        "for i in range(len(locality)):\n",
        "    for j in range(len(order)):\n",
        "        text = axes[1].text(\n",
        "            j, i, np.round(test_accuracies[i, j], 2), ha=\"center\", va=\"center\", color=\"black\"\n",
        "        )\n",
        "axes[1].text(3, 3, '\\n\\n(VQA)', ha=\"center\", va=\"center\", color=\"black\")\n",
        "\n",
        "axes[1].set_title(\"Test Accuracies\")\n",
        "fig.tight_layout()\n",
        "plt.show()"
      ],
      "metadata": {
        "colab": {
          "base_uri": "https://localhost:8080/",
          "height": 353
        },
        "id": "S8A6DeZrNIXG",
        "outputId": "146456aa-70e8-4565-d213-91167ca69f65"
      },
      "execution_count": 33,
      "outputs": [
        {
          "output_type": "display_data",
          "data": {
            "text/plain": [
              "<Figure size 640x480 with 2 Axes>"
            ],
            "image/png": "[encoded data removed]"
          },
          "metadata": {}
        }
      ]
    }
  ]
}